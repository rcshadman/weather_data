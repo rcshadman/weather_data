{
 "cells": [
  {
   "cell_type": "markdown",
   "metadata": {},
   "source": [
    "# Weather Model"
   ]
  },
  {
   "cell_type": "markdown",
   "metadata": {},
   "source": [
    "#### Aim : To generate weather data for cities in given format\n",
    "\n",
    "#### Plan : \n",
    "\n",
    "- Fetch the consolidated data from weather website for past few months (done using data_provider.py script)\n",
    "- Transform the data and selected relevant features\n",
    "- Since each city has different weather conditions, make a classifier for each city and\n",
    "  use to predict the condition of the weather based on Temperature, Pressure and Humidity\n",
    "- To generate the data:\n",
    "    - Plan A:\n",
    "        Either Use covariance amongst all the features and generate random data closely related to each other\n",
    "    - Plan B:\n",
    "        Use some other months data to provide feature and use our classifier to classify it.\n"
   ]
  },
  {
   "cell_type": "code",
   "execution_count": 1,
   "metadata": {},
   "outputs": [
    {
     "name": "stderr",
     "output_type": "stream",
     "text": [
      "/usr/local/lib/python3.6/site-packages/sklearn/cross_validation.py:41: DeprecationWarning: This module was deprecated in version 0.18 in favor of the model_selection module into which all the refactored classes and functions are moved. Also note that the interface of the new CV iterators are different from that of this module. This module will be removed in 0.20.\n",
      "  \"This module will be removed in 0.20.\", DeprecationWarning)\n"
     ]
    }
   ],
   "source": [
    "import numpy as np\n",
    "import pandas as pd\n",
    "from pprint import pprint as pp\n",
    "import json, os, sys, random, datetime\n",
    "import matplotlib.pyplot as plt\n",
    "import seaborn as sns\n",
    "from sklearn.linear_model import LogisticRegression\n",
    "from sklearn.svm import SVC\n",
    "from sklearn.cross_validation import train_test_split\n",
    "from sklearn.metrics import classification_report\n",
    "from sklearn.neighbors import KNeighborsClassifier\n",
    "random.seed(0)\n",
    "from time import sleep\n",
    "%matplotlib inline"
   ]
  },
  {
   "cell_type": "code",
   "execution_count": 2,
   "metadata": {},
   "outputs": [
    {
     "data": {
      "text/plain": [
       "<matplotlib.axes._subplots.AxesSubplot at 0x10799efd0>"
      ]
     },
     "execution_count": 2,
     "metadata": {},
     "output_type": "execute_result"
    },
    {
     "data": {
      "image/png": "[encoded data removed]",
      "text/plain": [
       "<matplotlib.figure.Figure at 0x10799ea58>"
      ]
     },
     "metadata": {},
     "output_type": "display_data"
    }
   ],
   "source": [
    "GEOGRAPHICAL_DATA = { \n",
    "'Sydney': [-33.86,151.20,19],\n",
    "'Melbourne': [-37.66,144.84,124],\n",
    "'Brisbane': [-27.47,153.02,28],\n",
    "'Gold_Coast': [-28.01,153.42,3.9],\n",
    "'Adelaide': [-34.92,138.59,44.7],\n",
    "'Darwin': [-12.46,130.84,37],\n",
    "'Wollongong': [-34.42,150.89,19],\n",
    "'Canberra': [-35.28,149.12,576.7],\n",
    "'Newcastle': [-32.92,151.77,12.81],\n",
    "'Hobart': [-42.83,147.50,6]\n",
    "}\n",
    "\n",
    "# load data \n",
    "df = pd.read_csv('../training_data/input_data_201710.csv')\n",
    "# check for nulls\n",
    "sns.heatmap(df.isnull(),yticklabels=False,cbar=False,cmap='viridis')"
   ]
  },
  {
   "cell_type": "markdown",
   "metadata": {},
   "source": [
    "### Transform"
   ]
  },
  {
   "cell_type": "code",
   "execution_count": 3,
   "metadata": {},
   "outputs": [],
   "source": [
    "# cleanup and format data\n",
    "\n",
    "\n",
    "# remove last two features with so many nulls\n",
    "df = df.iloc[:,1:-2]\n",
    "\n",
    "# drop rows with nulls\n",
    "df = df.dropna(axis=0,how='any')\n",
    "\n",
    "# change the datatype\n",
    "df[['Day','Hour','Humidity']] = df[['Day','Hour','Humidity']].astype(int)\n",
    "df[['Temp','DewPt','Pressure']] = df[['Temp','DewPt','Pressure']].astype(float)\n",
    "\n",
    "# rename column\n",
    "df.rename(columns={'City': 'Location','Day':'Date'}, inplace=True)\n",
    "\n",
    "# insert position columns for cities\n",
    "df.insert(1, 'Position', '')\n",
    "\n",
    "# populate data in the position coloumn \n",
    "df['Position'] = [GEOGRAPHICAL_DATA[city]  for city in df['Location']]\n",
    "\n",
    "# simplify the weathers to rain, cloudy, and clear\n",
    "\n",
    "weather_conditions= { \n",
    "    'Rain' : ['Light Rain',\n",
    "              'Light Rain Showers',\n",
    "              'Light Drizzle',\n",
    "              'Light Thunderstorms and Rain',\n",
    "              'Heavy Rain Showers',\n",
    "              'Unknown Precipitation',\n",
    "              'Thunderstorms and Rain',\n",
    "              'Rain',\n",
    "              'Rain Showers',\n",
    "              'Thunderstorm',\n",
    "              'Heavy Thunderstorms and Rain',\n",
    "              'Heavy Rain',\n",
    "              'Drizzle',\n",
    "              'Heavy Drizzle'],\n",
    "    'Cloudy':['Mostly Cloudy',\n",
    "              'Partly Cloudy',\n",
    "              'Overcast',\n",
    "              'Scattered Clouds'\n",
    "             ],\n",
    "    'Clear':['Clear'],\n",
    "    'Snow':['Snow']\n",
    "}\n",
    "\n",
    "def simplify(cond):\n",
    "    if cond in weather_conditions['Rain']:\n",
    "        cond = 'Snow'\n",
    "    elif cond in weather_conditions['Clear']:\n",
    "        cond = 'Sunny'\n",
    "    elif cond in weather_conditions['Snow']:\n",
    "        cond = 'Snow'\n",
    "    elif cond in weather_conditions['Cloudy']:\n",
    "        cond = 'Rain'\n",
    "    else:\n",
    "        cond = 'Sunny'\n",
    "    return cond\n",
    "\n",
    "df['Condition'] = df['Condition'].apply(simplify)\n",
    "df = df[df['Condition'] != 'Unknown']\n",
    "\n",
    "# rearrange the columns\n",
    "df = df[['Date','Hour','Location','Position','Condition','Temp','Pressure','Humidity','DewPt']]\n",
    "\n",
    "# sort by location,data and hour\n",
    "df = df.sort_values(['Location','Date','Hour'])\n",
    "\n",
    "#generate LocalTime Column from day and hour\n",
    "tmp = pd.DataFrame(\n",
    "{\n",
    "    'Time':['{:02}:{:02}:{:02}'.format(hr,random.randint(0,60),random.randint(0,60)) for hr in df['Hour'] ],\n",
    "    'Date':['2017-11-{:02}'.format(day) for day in df['Date']]\n",
    "})\n",
    "\n",
    "df.insert(4,'LocalTime','')\n",
    "df['LocalTime'] = tmp['Date'] + ' ' + tmp['Time']\n",
    "\n",
    "\n",
    "# To feed sklearn I have to convert the 'conditions' text data to a numeric value\n",
    "labels = {}\n",
    "\n",
    "for label, condition in enumerate( df['Condition'].unique() ):\n",
    "    labels[condition] = label\n",
    "\n",
    "df['label'] = df['Condition'].apply(lambda c: labels.get(c))\n",
    "\n",
    "# handy map to refer back to the condition\n",
    "label_map = { v:k for k,v in labels.items() }\n",
    "\n"
   ]
  },
  {
   "cell_type": "code",
   "execution_count": 4,
   "metadata": {},
   "outputs": [
    {
     "data": {
      "image/png": "[encoded data removed]",
      "text/plain": [
       "<matplotlib.figure.Figure at 0x101ed2f28>"
      ]
     },
     "metadata": {},
     "output_type": "display_data"
    }
   ],
   "source": [
    "# variation/range of temp in syndey each hour during the day\n",
    "\n",
    "idx = (df['Location'] == 'Sydney')\n",
    "plt.figure(figsize=[17,6])\n",
    "sns.boxplot(data=df[idx], x='Hour', y='Temp')\n",
    "plt.title('Temperature evolution @ Sydney')\n",
    "plt.show()\n"
   ]
  },
  {
   "cell_type": "code",
   "execution_count": 5,
   "metadata": {},
   "outputs": [
    {
     "data": {
      "image/png": "[encoded data removed]",
      "text/plain": [
       "<matplotlib.figure.Figure at 0x107981ac8>"
      ]
     },
     "metadata": {},
     "output_type": "display_data"
    }
   ],
   "source": [
    "# variation/range of temp in syndey during the month\n",
    "idx = (df['Location'] == 'Sydney')\n",
    "plt.figure(figsize=[17,6])\n",
    "sns.boxplot(data=df[idx], x='Date', y='Temp')\n",
    "plt.title('Temperature evolution @ Sydney')\n",
    "plt.show()"
   ]
  },
  {
   "cell_type": "markdown",
   "metadata": {},
   "source": [
    "### Building Classiers"
   ]
  },
  {
   "cell_type": "code",
   "execution_count": 6,
   "metadata": {},
   "outputs": [],
   "source": [
    "# Learning algorithm \n",
    "def learn(trainingData, features_to_drop):\n",
    "\n",
    "\n",
    "    # trainingY = pd.get_dummies(trainingData['Condition'], 'Condition')\n",
    "    trainingY = trainingData['label']\n",
    "\n",
    "    trainingData.drop(features_to_drop, axis=1, inplace=True)\n",
    "\n",
    "    # Split my data into train and test to avoid overfiting\n",
    "    X_train, X_test, Y_train, Y_test = train_test_split(trainingData, trainingY)\n",
    "\n",
    "    #  I will train a Support Vector Machine classifier\n",
    "    #     note: I tried with a Logistic Regression but I only got 68% accuracy\n",
    "\n",
    "    classifier = SVC()\n",
    "    # classifier = SVC(kernel='rbf', verbose=True)\n",
    "#     classifier = SVC(kernel='poly',degree=2)\n",
    "    # classifier = LogisticRegression(C=1e5)\n",
    "    # classifier = KNeighborsClassifier()\n",
    "    classifier.fit(X=X_train, y=Y_train)\n",
    "\n",
    "    # Now I'll check the accuracy of my model\n",
    "    train_ac = classifier.score(X=X_train, y=Y_train)\n",
    "    test_ac = classifier.score(X=X_test, y=Y_test)\n",
    "#     print('Training accuracy: {}   -  Testing accuracy: {} '.format(train_ac,test_ac))\n",
    "    \n",
    "    return classifier\n"
   ]
  },
  {
   "cell_type": "code",
   "execution_count": 7,
   "metadata": {},
   "outputs": [
    {
     "data": {
      "text/html": [
       "<div>\n",
       "<style>\n",
       "    .dataframe thead tr:only-child th {\n",
       "        text-align: right;\n",
       "    }\n",
       "\n",
       "    .dataframe thead th {\n",
       "        text-align: left;\n",
       "    }\n",
       "\n",
       "    .dataframe tbody tr th {\n",
       "        vertical-align: top;\n",
       "    }\n",
       "</style>\n",
       "<table border=\"1\" class=\"dataframe\">\n",
       "  <thead>\n",
       "    <tr style=\"text-align: right;\">\n",
       "      <th></th>\n",
       "      <th>Date</th>\n",
       "      <th>Hour</th>\n",
       "      <th>Location</th>\n",
       "      <th>Position</th>\n",
       "      <th>LocalTime</th>\n",
       "      <th>Condition</th>\n",
       "      <th>Temp</th>\n",
       "      <th>Pressure</th>\n",
       "      <th>Humidity</th>\n",
       "      <th>DewPt</th>\n",
       "      <th>label</th>\n",
       "    </tr>\n",
       "  </thead>\n",
       "  <tbody>\n",
       "    <tr>\n",
       "      <th>2465</th>\n",
       "      <td>1</td>\n",
       "      <td>0</td>\n",
       "      <td>Adelaide</td>\n",
       "      <td>[-34.92, 138.59, 44.7]</td>\n",
       "      <td>2017-11-06 16:11:43</td>\n",
       "      <td>Rain</td>\n",
       "      <td>10.0</td>\n",
       "      <td>1026.0</td>\n",
       "      <td>87</td>\n",
       "      <td>8.0</td>\n",
       "      <td>0</td>\n",
       "    </tr>\n",
       "    <tr>\n",
       "      <th>2466</th>\n",
       "      <td>1</td>\n",
       "      <td>1</td>\n",
       "      <td>Adelaide</td>\n",
       "      <td>[-34.92, 138.59, 44.7]</td>\n",
       "      <td>2017-11-06 17:53:22</td>\n",
       "      <td>Rain</td>\n",
       "      <td>9.0</td>\n",
       "      <td>1026.0</td>\n",
       "      <td>82</td>\n",
       "      <td>6.0</td>\n",
       "      <td>0</td>\n",
       "    </tr>\n",
       "    <tr>\n",
       "      <th>2467</th>\n",
       "      <td>1</td>\n",
       "      <td>3</td>\n",
       "      <td>Adelaide</td>\n",
       "      <td>[-34.92, 138.59, 44.7]</td>\n",
       "      <td>2017-11-06 18:27:54</td>\n",
       "      <td>Rain</td>\n",
       "      <td>8.0</td>\n",
       "      <td>1025.0</td>\n",
       "      <td>87</td>\n",
       "      <td>6.0</td>\n",
       "      <td>0</td>\n",
       "    </tr>\n",
       "    <tr>\n",
       "      <th>2468</th>\n",
       "      <td>1</td>\n",
       "      <td>4</td>\n",
       "      <td>Adelaide</td>\n",
       "      <td>[-34.92, 138.59, 44.7]</td>\n",
       "      <td>2017-11-06 19:27:26</td>\n",
       "      <td>Rain</td>\n",
       "      <td>8.0</td>\n",
       "      <td>1025.0</td>\n",
       "      <td>87</td>\n",
       "      <td>6.0</td>\n",
       "      <td>0</td>\n",
       "    </tr>\n",
       "    <tr>\n",
       "      <th>2469</th>\n",
       "      <td>1</td>\n",
       "      <td>5</td>\n",
       "      <td>Adelaide</td>\n",
       "      <td>[-34.92, 138.59, 44.7]</td>\n",
       "      <td>2017-11-06 20:23:37</td>\n",
       "      <td>Rain</td>\n",
       "      <td>8.0</td>\n",
       "      <td>1025.0</td>\n",
       "      <td>81</td>\n",
       "      <td>5.0</td>\n",
       "      <td>0</td>\n",
       "    </tr>\n",
       "  </tbody>\n",
       "</table>\n",
       "</div>"
      ],
      "text/plain": [
       "      Date  Hour  Location                Position            LocalTime  \\\n",
       "2465     1     0  Adelaide  [-34.92, 138.59, 44.7]  2017-11-06 16:11:43   \n",
       "2466     1     1  Adelaide  [-34.92, 138.59, 44.7]  2017-11-06 17:53:22   \n",
       "2467     1     3  Adelaide  [-34.92, 138.59, 44.7]  2017-11-06 18:27:54   \n",
       "2468     1     4  Adelaide  [-34.92, 138.59, 44.7]  2017-11-06 19:27:26   \n",
       "2469     1     5  Adelaide  [-34.92, 138.59, 44.7]  2017-11-06 20:23:37   \n",
       "\n",
       "     Condition  Temp  Pressure  Humidity  DewPt  label  \n",
       "2465      Rain  10.0    1026.0        87    8.0      0  \n",
       "2466      Rain   9.0    1026.0        82    6.0      0  \n",
       "2467      Rain   8.0    1025.0        87    6.0      0  \n",
       "2468      Rain   8.0    1025.0        87    6.0      0  \n",
       "2469      Rain   8.0    1025.0        81    5.0      0  "
      ]
     },
     "execution_count": 7,
     "metadata": {},
     "output_type": "execute_result"
    }
   ],
   "source": [
    "# data set with all features\n",
    "df.head()"
   ]
  },
  {
   "cell_type": "code",
   "execution_count": 8,
   "metadata": {
    "scrolled": false
   },
   "outputs": [],
   "source": [
    "# Drop unnecessary features\n",
    "features_to_drop = ['Location','Position','LocalTime','Condition','DewPt','label']\n"
   ]
  },
  {
   "cell_type": "code",
   "execution_count": 9,
   "metadata": {},
   "outputs": [
    {
     "data": {
      "text/plain": [
       "'Rain'"
      ]
     },
     "execution_count": 9,
     "metadata": {},
     "output_type": "execute_result"
    }
   ],
   "source": [
    "# create a predictor for each city and maintain in a dict to use it later for generating data\n",
    "city_predictor = { }\n",
    "city_stats_meta = {}\n",
    "for city in df['Location'].unique():\n",
    "    trainingData = df[ df['Location'] == city ].copy()\n",
    "    \n",
    "#     print('City: {} '.format(city))\n",
    "    classifier = learn(trainingData,features_to_drop)\n",
    "    city_predictor.update({city:classifier})\n",
    " \n",
    "    statistics = trainingData.describe()\n",
    "    mean = [\n",
    "        statistics['Pressure']['mean'],\n",
    "        statistics['Temp']['mean'],\n",
    "        statistics['Humidity']['mean']]\n",
    "    \n",
    "    covariance = statistics[['Temp','Pressure','Humidity']].cov()\n",
    "    city_stats_meta.update({city:[mean,covariance]})\n",
    "\n",
    "\n",
    "# sample\n",
    "predicted_value = city_predictor['Adelaide'].predict([[0,0,0,0,0]])[0]\n",
    "label_map[predicted_value]"
   ]
  },
  {
   "cell_type": "markdown",
   "metadata": {},
   "source": [
    "# Selected Features for analysis"
   ]
  },
  {
   "cell_type": "code",
   "execution_count": 17,
   "metadata": {},
   "outputs": [
    {
     "data": {
      "text/html": [
       "<div>\n",
       "<style>\n",
       "    .dataframe thead tr:only-child th {\n",
       "        text-align: right;\n",
       "    }\n",
       "\n",
       "    .dataframe thead th {\n",
       "        text-align: left;\n",
       "    }\n",
       "\n",
       "    .dataframe tbody tr th {\n",
       "        vertical-align: top;\n",
       "    }\n",
       "</style>\n",
       "<table border=\"1\" class=\"dataframe\">\n",
       "  <thead>\n",
       "    <tr style=\"text-align: right;\">\n",
       "      <th></th>\n",
       "      <th>Date</th>\n",
       "      <th>Hour</th>\n",
       "      <th>Temp</th>\n",
       "      <th>Pressure</th>\n",
       "      <th>Humidity</th>\n",
       "    </tr>\n",
       "  </thead>\n",
       "  <tbody>\n",
       "    <tr>\n",
       "      <th>2465</th>\n",
       "      <td>1</td>\n",
       "      <td>0</td>\n",
       "      <td>10.0</td>\n",
       "      <td>1026.0</td>\n",
       "      <td>87</td>\n",
       "    </tr>\n",
       "    <tr>\n",
       "      <th>2466</th>\n",
       "      <td>1</td>\n",
       "      <td>1</td>\n",
       "      <td>9.0</td>\n",
       "      <td>1026.0</td>\n",
       "      <td>82</td>\n",
       "    </tr>\n",
       "    <tr>\n",
       "      <th>2467</th>\n",
       "      <td>1</td>\n",
       "      <td>3</td>\n",
       "      <td>8.0</td>\n",
       "      <td>1025.0</td>\n",
       "      <td>87</td>\n",
       "    </tr>\n",
       "    <tr>\n",
       "      <th>2468</th>\n",
       "      <td>1</td>\n",
       "      <td>4</td>\n",
       "      <td>8.0</td>\n",
       "      <td>1025.0</td>\n",
       "      <td>87</td>\n",
       "    </tr>\n",
       "    <tr>\n",
       "      <th>2469</th>\n",
       "      <td>1</td>\n",
       "      <td>5</td>\n",
       "      <td>8.0</td>\n",
       "      <td>1025.0</td>\n",
       "      <td>81</td>\n",
       "    </tr>\n",
       "  </tbody>\n",
       "</table>\n",
       "</div>"
      ],
      "text/plain": [
       "      Date  Hour  Temp  Pressure  Humidity\n",
       "2465     1     0  10.0    1026.0        87\n",
       "2466     1     1   9.0    1026.0        82\n",
       "2467     1     3   8.0    1025.0        87\n",
       "2468     1     4   8.0    1025.0        87\n",
       "2469     1     5   8.0    1025.0        81"
      ]
     },
     "execution_count": 17,
     "metadata": {},
     "output_type": "execute_result"
    }
   ],
   "source": [
    "# for checking purpose only\n",
    "check = df.copy()\n",
    "check.drop(features_to_drop, axis=1, inplace=True)\n",
    "# dataset with selected features\n",
    "check.head()"
   ]
  },
  {
   "cell_type": "code",
   "execution_count": null,
   "metadata": {},
   "outputs": [],
   "source": [
    "### Build a weather generator using, randomly generating features from multivariance amongst features\n",
    "### and use the result to test the classifiers"
   ]
  },
  {
   "cell_type": "code",
   "execution_count": 31,
   "metadata": {},
   "outputs": [
    {
     "name": "stdout",
     "output_type": "stream",
     "text": [
      "  For Sydney Params: day-10,hour-22,temp- +1094.7,pressure--130.6,humidity-136\n",
      "\n",
      "    Predicted Condition is : Rain \n",
      "\n",
      "  For Darwin Params: day-10,hour-22,temp- +899.2,pressure-258.9,humidity--31\n",
      "\n",
      "    Predicted Condition is : Rain \n",
      "\n",
      "  For Canberra Params: day-10,hour-22,temp- +1225.6,pressure-212.1,humidity-309\n",
      "\n",
      "    Predicted Condition is : Rain \n",
      "\n",
      "  For Brisbane Params: day-10,hour-22,temp- +984.1,pressure--226.4,humidity-31\n",
      "\n",
      "    Predicted Condition is : Rain \n",
      "\n"
     ]
    }
   ],
   "source": [
    "\n",
    "weather_generator = np.random.multivariate_normal    \n",
    "\n",
    "city_list = list(GEOGRAPHICAL_DATA.keys())\n",
    "\n",
    "for each in range(1,5):\n",
    "    city = np.random.choice(city_list)\n",
    "    generated_values = weather_generator(*city_stats_meta[city]).tolist()\n",
    "    day,hour = datetime.datetime.now().day, datetime.datetime.now().hour \n",
    "    temp, pressure, humidity = list(generated_values)\n",
    "    generated_values = [day,hour]+generated_values\n",
    "    predicted_value = city_predictor[city].predict([generated_values])[0]\n",
    "    condition = label_map[predicted_value]\n",
    "    output_dict = {\n",
    "        'city':city,\n",
    "        'condition':condition,\n",
    "        'temp':temp,\n",
    "        'pressure':pressure,\n",
    "        'humidity':humidity,\n",
    "        'day':day,\n",
    "        'hour':hour\n",
    "    }\n",
    "    output_string = '''  For {city} Params: day-{day},hour-{hour},temp- +{temp:.01f},pressure-{pressure:.01f},humidity-{humidity:.0f}\\n\n",
    "    Predicted Condition is : {condition} \\n'''.format(**output_dict)\n",
    "    sleep(0.2)\n",
    "    print(output_string)\n"
   ]
  },
  {
   "cell_type": "markdown",
   "metadata": {},
   "source": [
    "### The Classifiers are working \n",
    "\n",
    "##### But generated values are not reliable, therefore I will be to using next months data to generate the weather\n",
    "#### Loading next months data"
   ]
  },
  {
   "cell_type": "code",
   "execution_count": 18,
   "metadata": {
    "scrolled": true
   },
   "outputs": [
    {
     "data": {
      "text/html": [
       "<div>\n",
       "<style>\n",
       "    .dataframe thead tr:only-child th {\n",
       "        text-align: right;\n",
       "    }\n",
       "\n",
       "    .dataframe thead th {\n",
       "        text-align: left;\n",
       "    }\n",
       "\n",
       "    .dataframe tbody tr th {\n",
       "        vertical-align: top;\n",
       "    }\n",
       "</style>\n",
       "<table border=\"1\" class=\"dataframe\">\n",
       "  <thead>\n",
       "    <tr style=\"text-align: right;\">\n",
       "      <th></th>\n",
       "      <th>City</th>\n",
       "      <th>Day</th>\n",
       "      <th>Hour</th>\n",
       "      <th>Temp</th>\n",
       "      <th>Pressure</th>\n",
       "      <th>Humidity</th>\n",
       "    </tr>\n",
       "  </thead>\n",
       "  <tbody>\n",
       "    <tr>\n",
       "      <th>632</th>\n",
       "      <td>Canberra</td>\n",
       "      <td>10</td>\n",
       "      <td>0</td>\n",
       "      <td>8.0</td>\n",
       "      <td>1028</td>\n",
       "      <td>71</td>\n",
       "    </tr>\n",
       "    <tr>\n",
       "      <th>680</th>\n",
       "      <td>Wollongong</td>\n",
       "      <td>10</td>\n",
       "      <td>0</td>\n",
       "      <td>11.0</td>\n",
       "      <td>1028</td>\n",
       "      <td>78</td>\n",
       "    </tr>\n",
       "    <tr>\n",
       "      <th>1140</th>\n",
       "      <td>Newcastle</td>\n",
       "      <td>10</td>\n",
       "      <td>0</td>\n",
       "      <td>13.0</td>\n",
       "      <td>1027</td>\n",
       "      <td>82</td>\n",
       "    </tr>\n",
       "    <tr>\n",
       "      <th>1336</th>\n",
       "      <td>Brisbane</td>\n",
       "      <td>10</td>\n",
       "      <td>0</td>\n",
       "      <td>16.0</td>\n",
       "      <td>1024</td>\n",
       "      <td>86</td>\n",
       "    </tr>\n",
       "    <tr>\n",
       "      <th>1745</th>\n",
       "      <td>Gold_Coast</td>\n",
       "      <td>10</td>\n",
       "      <td>0</td>\n",
       "      <td>16.0</td>\n",
       "      <td>1023</td>\n",
       "      <td>94</td>\n",
       "    </tr>\n",
       "  </tbody>\n",
       "</table>\n",
       "</div>"
      ],
      "text/plain": [
       "            City  Day  Hour  Temp  Pressure  Humidity\n",
       "632     Canberra   10     0   8.0      1028        71\n",
       "680   Wollongong   10     0  11.0      1028        78\n",
       "1140   Newcastle   10     0  13.0      1027        82\n",
       "1336    Brisbane   10     0  16.0      1024        86\n",
       "1745  Gold_Coast   10     0  16.0      1023        94"
      ]
     },
     "execution_count": 18,
     "metadata": {},
     "output_type": "execute_result"
    }
   ],
   "source": [
    "# Quick Clean up and transforming data to just relevant features.\n",
    "ds = pd.read_csv('../training_data/input_data_201711.csv')\n",
    "ds = ds[['City','Day','Hour','Temp','Pressure','Humidity']]\n",
    "ds = ds.iloc[:,0:8].dropna(axis=0,how='any')\n",
    "ds = ds.sample(frac=1).reset_index(drop=True)\n",
    "ds = ds.sort_values(['Day','Hour'])\n",
    "ds.head()"
   ]
  },
  {
   "cell_type": "markdown",
   "metadata": {},
   "source": [
    "### Generating the Weather String"
   ]
  },
  {
   "cell_type": "code",
   "execution_count": 16,
   "metadata": {},
   "outputs": [
    {
     "name": "stdout",
     "output_type": "stream",
     "text": [
      "Wollongong|-34.42,150.89,19|00:38:41T2017-11-10Z|Sunny|+11.0|1028.0|78\n",
      "Newcastle|-32.92,151.77,12.81|00:46:02T2017-11-10Z|Rain|+13.0|1027.0|82\n",
      "Darwin|-12.46,130.84,37|00:50:22T2017-11-10Z|Rain|+28.0|1008.0|79\n",
      "Sydney|-33.86,151.2,19|00:52:35T2017-11-10Z|Rain|+17.0|1027.0|68\n",
      "Canberra|-35.28,149.12,576.7|00:58:30T2017-11-10Z|Rain|+8.0|1028.0|71\n",
      "Melbourne|-37.66,144.84,124|00:54:27T2017-11-10Z|Rain|+11.0|1026.0|94\n",
      "Brisbane|-27.47,153.02,28|00:52:59T2017-11-10Z|Rain|+16.0|1024.0|86\n",
      "Gold_Coast|-28.01,153.42,3.9|00:36:56T2017-11-10Z|Rain|+16.0|1023.0|94\n",
      "Hobart|-42.83,147.5,6|00:40:56T2017-11-10Z|Rain|+12.0|1029.0|72\n",
      "Adelaide|-34.92,138.59,44.7|00:31:49T2017-11-10Z|Rain|+23.0|1019.0|27\n",
      "Wollongong|-34.42,150.89,19|01:07:12T2017-11-10Z|Sunny|+11.0|1028.0|87\n",
      "Hobart|-42.83,147.5,6|01:55:42T2017-11-10Z|Rain|+12.0|1029.0|72\n"
     ]
    }
   ],
   "source": [
    "city_list = list(GEOGRAPHICAL_DATA.keys())\n",
    "\n",
    "for i in range(0,ds.count()[0]-1):\n",
    "    row = ds.iloc[i]\n",
    "    \n",
    "    city,day,hour,temp, pressure, humidity = row\n",
    "    predicted_value = city_predictor[city].predict([ row[1:] ])[0]\n",
    "    condition = label_map[ predicted_value ]\n",
    "    \n",
    "    time = '{:02}:{:02}:{:02}'.format(hour,random.randint(0,60),random.randint(0,60))\n",
    "    date = '2017-11-{:02}'.format(day)\n",
    "    localtime = time + 'T' + date + 'Z'\n",
    "    position = GEOGRAPHICAL_DATA[city]\n",
    "\n",
    "    output_dict = {\n",
    "    'city':city,\n",
    "    'lat':position[0],\n",
    "    'long':position[1],\n",
    "    'elevation':position[2],\n",
    "    'localtime':localtime,\n",
    "    'condition':condition,\n",
    "    'temp':temp,\n",
    "    'pressure':pressure,\n",
    "    'humidity':humidity\n",
    "    }\n",
    "    output_string = '''{city}|{lat},{long},{elevation}|{localtime}|'''.format(**output_dict)\n",
    "    output_string += '''{condition}|+{temp:.01f}|{pressure:.01f}|{humidity:.0f}'''.format(**output_dict)\n",
    "    sleep(0.2)\n",
    "    print(output_string)\n",
    "    if i>10:\n",
    "        break "
   ]
  },
  {
   "cell_type": "markdown",
   "metadata": {},
   "source": [
    "## Thank You"
   ]
  }
 ],
 "metadata": {
  "kernelspec": {
   "display_name": "Python 3",
   "language": "python",
   "name": "python3"
  },
  "language_info": {
   "codemirror_mode": {
    "name": "ipython",
    "version": 3
   },
   "file_extension": ".py",
   "mimetype": "text/x-python",
   "name": "python",
   "nbconvert_exporter": "python",
   "pygments_lexer": "ipython3",
   "version": "3.6.1"
  }
 },
 "nbformat": 4,
 "nbformat_minor": 2
}
