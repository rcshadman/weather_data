{
 "cells": [
  {
   "cell_type": "code",
   "execution_count": 1,
   "metadata": {},
   "outputs": [
    {
     "name": "stderr",
     "output_type": "stream",
     "text": [
      "/usr/local/lib/python3.6/site-packages/sklearn/cross_validation.py:41: DeprecationWarning: This module was deprecated in version 0.18 in favor of the model_selection module into which all the refactored classes and functions are moved. Also note that the interface of the new CV iterators are different from that of this module. This module will be removed in 0.20.\n",
      "  \"This module will be removed in 0.20.\", DeprecationWarning)\n"
     ]
    }
   ],
   "source": [
    "import numpy as np\n",
    "import pandas as pd\n",
    "from pprint import pprint as pp\n",
    "import json, os, sys, random, datetime\n",
    "import matplotlib.pyplot as plt\n",
    "import seaborn as sns\n",
    "from sklearn.linear_model import LogisticRegression\n",
    "from sklearn.svm import SVC\n",
    "from sklearn.cross_validation import train_test_split\n",
    "from sklearn.metrics import classification_report\n",
    "from sklearn.neighbors import KNeighborsClassifier\n",
    "random.seed(0)\n",
    "from time import sleep\n",
    "%matplotlib inline"
   ]
  },
  {
   "cell_type": "code",
   "execution_count": 2,
   "metadata": {},
   "outputs": [
    {
     "data": {
      "text/plain": [
       "<matplotlib.axes._subplots.AxesSubplot at 0x10bedfda0>"
      ]
     },
     "execution_count": 2,
     "metadata": {},
     "output_type": "execute_result"
    },
    {
     "data": {
      "image/png": "[encoded data removed]",
      "text/plain": [
       "<matplotlib.figure.Figure at 0x107647588>"
      ]
     },
     "metadata": {},
     "output_type": "display_data"
    }
   ],
   "source": [
    "# load data \n",
    "df = pd.read_csv('training_data/input_data_nov.csv')\n",
    "\n",
    "# check for nulls\n",
    "sns.heatmap(df.isnull(),yticklabels=False,cbar=False,cmap='viridis')"
   ]
  },
  {
   "cell_type": "code",
   "execution_count": 3,
   "metadata": {},
   "outputs": [
    {
     "data": {
      "image/png": "[encoded data removed]",
      "text/plain": [
       "<matplotlib.figure.Figure at 0x10c406860>"
      ]
     },
     "metadata": {},
     "output_type": "display_data"
    }
   ],
   "source": [
    "# cleanup and format data\n",
    "\n",
    "# remove last two features with so many nulls\n",
    "df = df.iloc[:,1:-2]\n",
    "\n",
    "# drop rows with nulls\n",
    "df = df.dropna(axis=0,how='any')\n",
    "\n",
    "\n",
    "# sanity check for data\n",
    "sns.heatmap(df.isnull(),yticklabels=False,cbar=False,cmap='viridis')\n",
    "\n",
    "\n",
    "# change the datatype\n",
    "df[['Day','Hour','Humidity']] = df[['Day','Hour','Humidity']].astype(int)\n",
    "df[['Temp','DewPt','Pressure']] = df[['Temp','DewPt','Pressure']].astype(float)\n",
    "\n",
    "\n",
    "# rename column\n",
    "df.rename(columns={'City': 'Location','Day':'Date'}, inplace=True)\n",
    "\n",
    "\n",
    "# insert position columns for cities\n",
    "df.insert(1, 'Position', '')\n",
    "\n",
    "GEOGRAPHICAL_DATA = { \n",
    "'Sydney': [-33.86,151.20,19],\n",
    "'Melbourne': [-37.66,144.84,124],\n",
    "'Brisbane': [-27.47,153.02,28],\n",
    "'Gold_Coast': [-28.01,153.42,3.9],\n",
    "'Adelaide': [-34.92,138.59,44.7],\n",
    "'Darwin': [-12.46,130.84,37],\n",
    "'Wollongong': [-34.42,150.89,19],\n",
    "'Canberra': [-35.28,149.12,576.7],\n",
    "'Newcastle': [-32.92,151.77,12.81],\n",
    "'Hobart': [-42.83,147.50,6]\n",
    "}\n",
    "\n",
    "# populate data in the position coloumn \n",
    "df['Position'] = [GEOGRAPHICAL_DATA[city]  for city in df['Location']]\n",
    "\n"
   ]
  },
  {
   "cell_type": "code",
   "execution_count": 4,
   "metadata": {},
   "outputs": [],
   "source": [
    "# simplify the weathers to rain, cloudy, and clear\n",
    "\n",
    "weather_conditions= { \n",
    "    'Rain' : ['Light Rain',\n",
    "              'Light Rain Showers',\n",
    "              'Light Drizzle',\n",
    "              'Light Thunderstorms and Rain',\n",
    "              'Heavy Rain Showers',\n",
    "              'Unknown Precipitation',\n",
    "              'Thunderstorms and Rain',\n",
    "              'Rain',\n",
    "              'Rain Showers',\n",
    "              'Thunderstorm',\n",
    "              'Heavy Thunderstorms and Rain',\n",
    "              'Heavy Rain',\n",
    "              'Drizzle',\n",
    "              'Heavy Drizzle'],\n",
    "    'Cloudy':['Mostly Cloudy',\n",
    "              'Partly Cloudy',\n",
    "              'Overcast',\n",
    "              'Scattered Clouds'\n",
    "             ],\n",
    "    'Clear':['Clear'],\n",
    "    'Snow':['Snow']\n",
    "}\n",
    "\n",
    "def simplify(cond):\n",
    "    if cond in weather_conditions['Rain']:\n",
    "        cond = 'Rain'\n",
    "    elif cond in weather_conditions['Clear']:\n",
    "        cond = 'Clear'\n",
    "    elif cond in weather_conditions['Snow']:\n",
    "        cond = 'Snow'\n",
    "    elif cond in weather_conditions['Cloudy']:\n",
    "        cond = 'Cloudy'\n",
    "    else:\n",
    "        cond = 'Unknown'\n",
    "    return cond\n",
    "\n",
    "df['Condition'] = df['Condition'].apply(simplify)\n",
    "df = df[df['Condition'] != 'Unknown']"
   ]
  },
  {
   "cell_type": "code",
   "execution_count": 5,
   "metadata": {},
   "outputs": [],
   "source": [
    "# rearrange the columns\n",
    "df = df[['Date','Hour','Location','Position','Condition','Pressure','Temp','Humidity','DewPt']]\n",
    "\n",
    "# sort by location,data and hour\n",
    "df = df.sort_values(['Location','Date','Hour'])\n"
   ]
  },
  {
   "cell_type": "code",
   "execution_count": 6,
   "metadata": {},
   "outputs": [],
   "source": [
    "# generate LocalTime Column from day and hour\n",
    "tmp = pd.DataFrame(\n",
    "    {\n",
    "        'Time':['{:02}:{:02}:{:02}'.format(hr,random.randint(0,60),random.randint(0,60)) for hr in df['Hour'] ],\n",
    "        'Date':['2017-11-{:02}'.format(day) for day in df['Date']]\n",
    "    })\n",
    "\n",
    "df.insert(4,'LocalTime','')\n",
    "df['LocalTime'] = tmp['Date'] + ' ' + tmp['Time']\n"
   ]
  },
  {
   "cell_type": "code",
   "execution_count": 7,
   "metadata": {},
   "outputs": [],
   "source": [
    "# To feed sklearn I have to convert the 'conditions' text data to a numeric value\n",
    "labels = {}\n",
    "\n",
    "for label, condition in enumerate( df['Condition'].unique() ):\n",
    "    labels[condition] = label\n",
    "\n",
    "df['label'] = df['Condition'].apply(lambda c: labels.get(c))\n",
    "\n",
    "# handy map to refer back to the condition\n",
    "label_map = { v:k for k,v in labels.items() }\n"
   ]
  },
  {
   "cell_type": "code",
   "execution_count": 8,
   "metadata": {},
   "outputs": [
    {
     "data": {
      "image/png": "[encoded data removed]",
      "text/plain": [
       "<matplotlib.figure.Figure at 0x10c420588>"
      ]
     },
     "metadata": {},
     "output_type": "display_data"
    }
   ],
   "source": [
    "# variation/range of temp in syndey each hour during the day\n",
    "\n",
    "idx = (df['Location'] == 'Sydney')\n",
    "plt.figure(figsize=[17,6])\n",
    "sns.boxplot(data=df[idx], x='Hour', y='Temp')\n",
    "plt.title('Temperature evolution @ Sydney')\n",
    "plt.show()\n"
   ]
  },
  {
   "cell_type": "code",
   "execution_count": 9,
   "metadata": {},
   "outputs": [
    {
     "data": {
      "image/png": "[encoded data removed]",
      "text/plain": [
       "<matplotlib.figure.Figure at 0x10cc29550>"
      ]
     },
     "metadata": {},
     "output_type": "display_data"
    }
   ],
   "source": [
    "# variation/range of temp in syndey during the month\n",
    "idx = (df['Location'] == 'Sydney')\n",
    "plt.figure(figsize=[17,6])\n",
    "sns.boxplot(data=df[idx], x='Date', y='Temp')\n",
    "plt.title('Temperature evolution @ Sydney')\n",
    "plt.show()"
   ]
  },
  {
   "cell_type": "code",
   "execution_count": 10,
   "metadata": {},
   "outputs": [],
   "source": [
    "# Learning algorithm \n",
    "def learn(trainingData, features_to_drop):\n",
    "\n",
    "\n",
    "    # trainingY = pd.get_dummies(trainingData['Condition'], 'Condition')\n",
    "    trainingY = trainingData['label']\n",
    "\n",
    "    trainingData.drop(features_to_drop, axis=1, inplace=True)\n",
    "\n",
    "    # Split my data into train and test to avoid overfiting\n",
    "    X_train, X_test, Y_train, Y_test = train_test_split(trainingData, trainingY)\n",
    "\n",
    "    #  I will train a Support Vector Machine classifier\n",
    "    #     note: I tried with a Logistic Regression but I only got 68% accuracy\n",
    "\n",
    "    # classifier = SVC()\n",
    "    # classifier = SVC(kernel='rbf', verbose=True)\n",
    "    classifier = SVC(kernel='poly',degree=2)\n",
    "    # classifier = LogisticRegression(C=1e5)\n",
    "    # classifier = KNeighborsClassifier()\n",
    "    classifier.fit(X=X_train, y=Y_train)\n",
    "\n",
    "    # Now I'll check the accuracy of my model\n",
    "    train_ac = classifier.score(X=X_train, y=Y_train)\n",
    "    test_ac = classifier.score(X=X_test, y=Y_test)\n",
    "    print('Training accuracy: {}   -  Testing accuracy: {} '.format(train_ac,test_ac))\n",
    "    \n",
    "    return classifier\n"
   ]
  },
  {
   "cell_type": "code",
   "execution_count": 11,
   "metadata": {},
   "outputs": [
    {
     "data": {
      "text/html": [
       "<div>\n",
       "<style>\n",
       "    .dataframe thead tr:only-child th {\n",
       "        text-align: right;\n",
       "    }\n",
       "\n",
       "    .dataframe thead th {\n",
       "        text-align: left;\n",
       "    }\n",
       "\n",
       "    .dataframe tbody tr th {\n",
       "        vertical-align: top;\n",
       "    }\n",
       "</style>\n",
       "<table border=\"1\" class=\"dataframe\">\n",
       "  <thead>\n",
       "    <tr style=\"text-align: right;\">\n",
       "      <th></th>\n",
       "      <th>Date</th>\n",
       "      <th>Hour</th>\n",
       "      <th>Location</th>\n",
       "      <th>Position</th>\n",
       "      <th>LocalTime</th>\n",
       "      <th>Condition</th>\n",
       "      <th>Pressure</th>\n",
       "      <th>Temp</th>\n",
       "      <th>Humidity</th>\n",
       "      <th>DewPt</th>\n",
       "      <th>label</th>\n",
       "    </tr>\n",
       "  </thead>\n",
       "  <tbody>\n",
       "    <tr>\n",
       "      <th>10</th>\n",
       "      <td>10</td>\n",
       "      <td>0</td>\n",
       "      <td>Adelaide</td>\n",
       "      <td>[-34.92, 138.59, 44.7]</td>\n",
       "      <td>2017-11-10 10:32:08</td>\n",
       "      <td>Clear</td>\n",
       "      <td>1019.0</td>\n",
       "      <td>23.0</td>\n",
       "      <td>27</td>\n",
       "      <td>3.0</td>\n",
       "      <td>0</td>\n",
       "    </tr>\n",
       "    <tr>\n",
       "      <th>11</th>\n",
       "      <td>10</td>\n",
       "      <td>1</td>\n",
       "      <td>Adelaide</td>\n",
       "      <td>[-34.92, 138.59, 44.7]</td>\n",
       "      <td>2017-11-10 11:18:08</td>\n",
       "      <td>Clear</td>\n",
       "      <td>1018.0</td>\n",
       "      <td>24.0</td>\n",
       "      <td>21</td>\n",
       "      <td>0.0</td>\n",
       "      <td>0</td>\n",
       "    </tr>\n",
       "    <tr>\n",
       "      <th>8</th>\n",
       "      <td>10</td>\n",
       "      <td>2</td>\n",
       "      <td>Adelaide</td>\n",
       "      <td>[-34.92, 138.59, 44.7]</td>\n",
       "      <td>2017-11-10 08:37:57</td>\n",
       "      <td>Clear</td>\n",
       "      <td>1017.0</td>\n",
       "      <td>25.0</td>\n",
       "      <td>17</td>\n",
       "      <td>-2.0</td>\n",
       "      <td>0</td>\n",
       "    </tr>\n",
       "    <tr>\n",
       "      <th>9</th>\n",
       "      <td>10</td>\n",
       "      <td>3</td>\n",
       "      <td>Adelaide</td>\n",
       "      <td>[-34.92, 138.59, 44.7]</td>\n",
       "      <td>2017-11-10 09:58:13</td>\n",
       "      <td>Clear</td>\n",
       "      <td>1018.0</td>\n",
       "      <td>24.0</td>\n",
       "      <td>19</td>\n",
       "      <td>-1.0</td>\n",
       "      <td>0</td>\n",
       "    </tr>\n",
       "    <tr>\n",
       "      <th>7</th>\n",
       "      <td>10</td>\n",
       "      <td>4</td>\n",
       "      <td>Adelaide</td>\n",
       "      <td>[-34.92, 138.59, 44.7]</td>\n",
       "      <td>2017-11-10 07:30:22</td>\n",
       "      <td>Clear</td>\n",
       "      <td>1018.0</td>\n",
       "      <td>25.0</td>\n",
       "      <td>17</td>\n",
       "      <td>-2.0</td>\n",
       "      <td>0</td>\n",
       "    </tr>\n",
       "  </tbody>\n",
       "</table>\n",
       "</div>"
      ],
      "text/plain": [
       "    Date  Hour  Location                Position            LocalTime  \\\n",
       "10    10     0  Adelaide  [-34.92, 138.59, 44.7]  2017-11-10 10:32:08   \n",
       "11    10     1  Adelaide  [-34.92, 138.59, 44.7]  2017-11-10 11:18:08   \n",
       "8     10     2  Adelaide  [-34.92, 138.59, 44.7]  2017-11-10 08:37:57   \n",
       "9     10     3  Adelaide  [-34.92, 138.59, 44.7]  2017-11-10 09:58:13   \n",
       "7     10     4  Adelaide  [-34.92, 138.59, 44.7]  2017-11-10 07:30:22   \n",
       "\n",
       "   Condition  Pressure  Temp  Humidity  DewPt  label  \n",
       "10     Clear    1019.0  23.0        27    3.0      0  \n",
       "11     Clear    1018.0  24.0        21    0.0      0  \n",
       "8      Clear    1017.0  25.0        17   -2.0      0  \n",
       "9      Clear    1018.0  24.0        19   -1.0      0  \n",
       "7      Clear    1018.0  25.0        17   -2.0      0  "
      ]
     },
     "execution_count": 11,
     "metadata": {},
     "output_type": "execute_result"
    }
   ],
   "source": [
    "# data set with all features\n",
    "df.head()"
   ]
  },
  {
   "cell_type": "code",
   "execution_count": 12,
   "metadata": {
    "scrolled": false
   },
   "outputs": [
    {
     "data": {
      "text/html": [
       "<div>\n",
       "<style>\n",
       "    .dataframe thead tr:only-child th {\n",
       "        text-align: right;\n",
       "    }\n",
       "\n",
       "    .dataframe thead th {\n",
       "        text-align: left;\n",
       "    }\n",
       "\n",
       "    .dataframe tbody tr th {\n",
       "        vertical-align: top;\n",
       "    }\n",
       "</style>\n",
       "<table border=\"1\" class=\"dataframe\">\n",
       "  <thead>\n",
       "    <tr style=\"text-align: right;\">\n",
       "      <th></th>\n",
       "      <th>Date</th>\n",
       "      <th>Hour</th>\n",
       "      <th>Pressure</th>\n",
       "      <th>Temp</th>\n",
       "      <th>Humidity</th>\n",
       "    </tr>\n",
       "  </thead>\n",
       "  <tbody>\n",
       "    <tr>\n",
       "      <th>10</th>\n",
       "      <td>10</td>\n",
       "      <td>0</td>\n",
       "      <td>1019.0</td>\n",
       "      <td>23.0</td>\n",
       "      <td>27</td>\n",
       "    </tr>\n",
       "    <tr>\n",
       "      <th>11</th>\n",
       "      <td>10</td>\n",
       "      <td>1</td>\n",
       "      <td>1018.0</td>\n",
       "      <td>24.0</td>\n",
       "      <td>21</td>\n",
       "    </tr>\n",
       "    <tr>\n",
       "      <th>8</th>\n",
       "      <td>10</td>\n",
       "      <td>2</td>\n",
       "      <td>1017.0</td>\n",
       "      <td>25.0</td>\n",
       "      <td>17</td>\n",
       "    </tr>\n",
       "    <tr>\n",
       "      <th>9</th>\n",
       "      <td>10</td>\n",
       "      <td>3</td>\n",
       "      <td>1018.0</td>\n",
       "      <td>24.0</td>\n",
       "      <td>19</td>\n",
       "    </tr>\n",
       "    <tr>\n",
       "      <th>7</th>\n",
       "      <td>10</td>\n",
       "      <td>4</td>\n",
       "      <td>1018.0</td>\n",
       "      <td>25.0</td>\n",
       "      <td>17</td>\n",
       "    </tr>\n",
       "  </tbody>\n",
       "</table>\n",
       "</div>"
      ],
      "text/plain": [
       "    Date  Hour  Pressure  Temp  Humidity\n",
       "10    10     0    1019.0  23.0        27\n",
       "11    10     1    1018.0  24.0        21\n",
       "8     10     2    1017.0  25.0        17\n",
       "9     10     3    1018.0  24.0        19\n",
       "7     10     4    1018.0  25.0        17"
      ]
     },
     "execution_count": 12,
     "metadata": {},
     "output_type": "execute_result"
    }
   ],
   "source": [
    "# Drop unnecessary features\n",
    "features_to_drop = ['Location','Position','LocalTime','Condition','DewPt','label']\n",
    "dff = df.copy()\n",
    "dff.drop(features_to_drop, axis=1, inplace=True)\n",
    "\n",
    "# dataset with selected features\n",
    "dff.head()"
   ]
  },
  {
   "cell_type": "code",
   "execution_count": 13,
   "metadata": {},
   "outputs": [
    {
     "name": "stdout",
     "output_type": "stream",
     "text": [
      "City: Adelaide \n",
      "Training accuracy: 0.8471849865951743   -  Testing accuracy: 0.856 \n",
      "City: Brisbane \n",
      "Training accuracy: 0.725   -  Testing accuracy: 0.8571428571428571 \n",
      "City: Canberra \n",
      "Training accuracy: 0.7678018575851393   -  Testing accuracy: 0.6851851851851852 \n",
      "City: Darwin \n",
      "Training accuracy: 0.7601078167115903   -  Testing accuracy: 0.6854838709677419 \n",
      "City: Gold_Coast \n",
      "Training accuracy: 0.8682432432432432   -  Testing accuracy: 0.9191919191919192 \n",
      "City: Hobart \n",
      "Training accuracy: 0.6994535519125683   -  Testing accuracy: 0.6639344262295082 \n",
      "City: Melbourne \n",
      "Training accuracy: 0.6948228882833788   -  Testing accuracy: 0.7154471544715447 \n",
      "City: Newcastle \n",
      "Training accuracy: 0.9401709401709402   -  Testing accuracy: 0.8589743589743589 \n",
      "City: Sydney \n",
      "Training accuracy: 0.8359788359788359   -  Testing accuracy: 0.8174603174603174 \n",
      "City: Wollongong \n",
      "Training accuracy: 0.9572649572649573   -  Testing accuracy: 0.925 \n"
     ]
    }
   ],
   "source": [
    "# create a predictor for each city and maintain in a dict to use it later for generating data\n",
    "city_predictor = { }\n",
    "city_stats_meta = {}\n",
    "for city in df['Location'].unique():\n",
    "    trainingData = df[ df['Location'] == city ].copy()\n",
    "    \n",
    "    print('City: {} '.format(city))\n",
    "    classifier = learn(trainingData,features_to_drop)\n",
    "    city_predictor.update({city:classifier})\n",
    "    \n",
    "    \n",
    "    statistics = trainingData.describe()\n",
    "    mean = [\n",
    "        statistics['Pressure']['mean'],\n",
    "        statistics['Temp']['mean'],\n",
    "        statistics['Humidity']['mean']]\n",
    "    cov = statistics[['Pressure','Temp','Humidity']].cov()\n",
    "    city_stats_meta.update({city:[mean,cov]})\n",
    "    \n",
    "    weather_generator = np.random.multivariate_normal\n",
    "    "
   ]
  },
  {
   "cell_type": "code",
   "execution_count": 14,
   "metadata": {},
   "outputs": [
    {
     "data": {
      "text/plain": [
       "'Clear'"
      ]
     },
     "execution_count": 14,
     "metadata": {},
     "output_type": "execute_result"
    }
   ],
   "source": [
    "# sample\n",
    "predicted_value = city_predictor['Adelaide'].predict([[0,0,0,0,0]])[0]\n",
    "label_map[predicted_value]"
   ]
  },
  {
   "cell_type": "code",
   "execution_count": 15,
   "metadata": {},
   "outputs": [
    {
     "name": "stdout",
     "output_type": "stream",
     "text": [
      "Gold_Coast|-28.01,153.42,3.9|2017-12-09T22:22:18Z|Cloudy|+1417.9|-260.6|-170\n",
      "Hobart|-42.83,147.5,6|2017-12-09T22:22:18Z|Cloudy|+1267.4|-106.7|-15\n",
      "Canberra|-35.28,149.12,576.7|2017-12-09T22:22:19Z|Rain|+21.0|173.5|181\n",
      "Newcastle|-32.92,151.77,12.81|2017-12-09T22:22:19Z|Rain|+1037.2|102.0|151\n",
      "Brisbane|-27.47,153.02,28|2017-12-09T22:22:19Z|Cloudy|+1042.0|12.6|63\n",
      "Newcastle|-32.92,151.77,12.81|2017-12-09T22:22:19Z|Clear|+1359.2|-57.6|13\n",
      "Sydney|-33.86,151.2,19|2017-12-09T22:22:19Z|Rain|+1632.6|-75.5|5\n",
      "Wollongong|-34.42,150.89,19|2017-12-09T22:22:20Z|Clear|+34.7|52.6|48\n",
      "Wollongong|-34.42,150.89,19|2017-12-09T22:22:20Z|Clear|+1111.2|2.1|66\n"
     ]
    }
   ],
   "source": [
    "\n",
    "weather_generator = np.random.multivariate_normal\n",
    "city_list = [each_city for each_city in GEOGRAPHICAL_DATA.keys()]\n",
    "\n",
    "for each in range(1,10):\n",
    "    city = np.random.choice(city_list)\n",
    "#     city = 'Sydney'\n",
    "    generated_values = weather_generator(*city_stats_meta[city]).tolist()\n",
    "    # print(generated_values)\n",
    "    # adding day and time to generated weather data, to predict the condition\n",
    "    day,hour = '{:%d %H}'.format(datetime.datetime.now()).split(' ')\n",
    "    day,hour = int(day),int(hour)\n",
    "    generated_values = [day,hour]+generated_values\n",
    "\n",
    "    predicted_value = city_predictor[city].predict([generated_values])[0]\n",
    "\n",
    "    Condition = label_map[predicted_value]\n",
    "    Temp = generated_values[2]\n",
    "    Pressure = generated_values[3]\n",
    "    Humidity = generated_values[4]\n",
    "    # LocalTime = datetime.datetime.fromtimestamp(ts).strftime('%Y-%m-%d %H:%M:%S')\n",
    "    Localtime= '{:%Y-%m-%dT%H:%M:%SZ}'.format(datetime.datetime.now())\n",
    "    Position = GEOGRAPHICAL_DATA[city]\n",
    "\n",
    "    output_dict = {\n",
    "    'city':city,\n",
    "    'lat':Position[0],\n",
    "    'long':Position[1],\n",
    "    'elevation':Position[2],\n",
    "    'localtime':Localtime,\n",
    "    'condition':Condition,\n",
    "    'temp':Temp,\n",
    "    'pressure':Pressure,\n",
    "    'humidity':Humidity\n",
    "    }\n",
    "    output_string = '{city}|{lat},{long},{elevation}|{localtime}|{condition}|+{temp:.01f}|{pressure:.01f}|{humidity:.0f}'.format(**output_dict)\n",
    "    sleep(0.2)\n",
    "    print(output_string)\n"
   ]
  },
  {
   "cell_type": "code",
   "execution_count": null,
   "metadata": {},
   "outputs": [],
   "source": []
  },
  {
   "cell_type": "code",
   "execution_count": null,
   "metadata": {},
   "outputs": [],
   "source": []
  }
 ],
 "metadata": {
  "kernelspec": {
   "display_name": "Python 3",
   "language": "python",
   "name": "python3"
  },
  "language_info": {
   "codemirror_mode": {
    "name": "ipython",
    "version": 3
   },
   "file_extension": ".py",
   "mimetype": "text/x-python",
   "name": "python",
   "nbconvert_exporter": "python",
   "pygments_lexer": "ipython3",
   "version": "3.6.1"
  }
 },
 "nbformat": 4,
 "nbformat_minor": 2
}
