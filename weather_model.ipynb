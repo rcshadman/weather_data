{
 "cells": [
  {
   "cell_type": "code",
   "execution_count": 1,
   "metadata": {},
   "outputs": [
    {
     "name": "stderr",
     "output_type": "stream",
     "text": [
      "/usr/local/lib/python3.6/site-packages/sklearn/cross_validation.py:41: DeprecationWarning: This module was deprecated in version 0.18 in favor of the model_selection module into which all the refactored classes and functions are moved. Also note that the interface of the new CV iterators are different from that of this module. This module will be removed in 0.20.\n",
      "  \"This module will be removed in 0.20.\", DeprecationWarning)\n"
     ]
    }
   ],
   "source": [
    "import numpy as np\n",
    "import pandas as pd\n",
    "from pprint import pprint as pp\n",
    "import json, os, sys\n",
    "import matplotlib.pyplot as plt\n",
    "import seaborn as sns\n",
    "import random\n",
    "from sklearn.linear_model import LogisticRegression\n",
    "from sklearn.svm import SVC\n",
    "from sklearn.cross_validation import train_test_split\n",
    "from sklearn.metrics import classification_report\n",
    "from sklearn.neighbors import KNeighborsClassifier"
   ]
  },
  {
   "cell_type": "code",
   "execution_count": 2,
   "metadata": {},
   "outputs": [],
   "source": [
    "random.seed(0)\n",
    "%matplotlib inline\n",
    "\n",
    "df = pd.read_csv('weather_data/training_data/input_data_nov.csv')\n",
    "\n",
    "# sns.heatmap(df.isnull(),yticklabels=False,cbar=False,cmap='viridis')\n",
    "df = df.iloc[:,1:-2]\n",
    "df = df.dropna(axis=0,how='any')\n",
    "df[['Day','Hour','Humidity']] = df[['Day','Hour','Humidity']].astype(int)\n",
    "df[['Temp','DewPt','Pressure']] = df[['Temp','DewPt','Pressure']].astype(float)\n",
    "# sns.heatmap(df.isnull(),yticklabels=False,cbar=False,cmap='viridis')\n",
    "df.insert(1, 'Position', '')\n",
    "df.rename(columns={'City': 'Location','Day':'Date'}, inplace=True)\n",
    "\n",
    "geo = { \n",
    "'Sydney': [-33.86,151.20,19],\n",
    "'Melbourne': [-37.66,144.84,124],\n",
    "'Brisbane': [-27.47,153.02,28],\n",
    "'Gold_Coast': [-28.01,153.42,3.9],\n",
    "'Adelaide': [-34.92,138.59,44.7],\n",
    "'Darwin': [-12.46,130.84,37],\n",
    "'Wollongong': [-34.42,150.89,19],\n",
    "'Canberra': [-35.28,149.12,576.7],\n",
    "'Newcastle': [-32.92,151.77,12.81],\n",
    "'Hobart': [-42.83,147.50,6]\n",
    "}\n",
    "\n",
    "df['Position'] = [geo[city]  for city in df['Location']]\n",
    "weather_conditions= { \n",
    "    'Rain' : ['Light Rain',\n",
    "              'Light Rain Showers',\n",
    "              'Light Drizzle',\n",
    "              'Light Thunderstorms and Rain',\n",
    "              'Heavy Rain Showers',\n",
    "              'Unknown Precipitation',\n",
    "              'Thunderstorms and Rain',\n",
    "              'Rain',\n",
    "              'Rain Showers',\n",
    "              'Thunderstorm',\n",
    "              'Heavy Thunderstorms and Rain',\n",
    "              'Heavy Rain',\n",
    "              'Drizzle',\n",
    "              'Heavy Drizzle'],\n",
    "    'Cloudy':['Mostly Cloudy',\n",
    "              'Partly Cloudy',\n",
    "              'Overcast',\n",
    "              'Scattered Clouds'\n",
    "             ],\n",
    "    'Clear':['Clear'],\n",
    "    'Snow':['Snow']\n",
    "}\n",
    "\n",
    "def simplify(cond):\n",
    "    if cond in weather_conditions['Rain']:\n",
    "        cond = 'Rain'\n",
    "    elif cond in weather_conditions['Clear']:\n",
    "        cond = 'Clear'\n",
    "    elif cond in weather_conditions['Snow']:\n",
    "        cond = 'Snow'\n",
    "    elif cond in weather_conditions['Cloudy']:\n",
    "        cond = 'Cloudy'\n",
    "    else:\n",
    "        cond = 'Unknown'\n",
    "    return cond\n",
    "\n",
    "df['Condition'] = df['Condition'].apply(simplify)\n",
    "df = df[df['Condition'] != 'Unknown']\n",
    "df = df[['Date','Hour','Location','Position','Condition','Pressure','Temp','Humidity','DewPt']]\n",
    "df = df.sort_values(['Location','Date','Hour'])\n",
    "\n",
    "tmp = pd.DataFrame({'Time':['{:02}:{:02}:{:02}'.format(hr,random.randint(0,60),random.randint(0,60)) for hr in df['Hour'] ],\n",
    "                        'Date':['2017-11-{:02}'.format(day) for day in df['Date']]\n",
    "                        })\n",
    "\n",
    "df.insert(4,'LocalTime','')\n",
    "df['LocalTime'] = tmp['Date'] + ' ' + tmp['Time']"
   ]
  },
  {
   "cell_type": "code",
   "execution_count": 3,
   "metadata": {
    "scrolled": true
   },
   "outputs": [],
   "source": [
    "# To feed sklearn I have to convert the 'conditions' text data to a numeric value\n",
    "labels = {}\n",
    "\n",
    "for label, condition in enumerate( df['Condition'].unique() ):\n",
    "    labels[condition] = label\n",
    "\n",
    "df['label'] = df['Condition'].apply(lambda c: labels.get(c))\n",
    "label_map = { v:k for k,v in labels.items() }\n"
   ]
  },
  {
   "cell_type": "code",
   "execution_count": 4,
   "metadata": {},
   "outputs": [],
   "source": [
    "def learn(trainingData):\n",
    "\n",
    "\n",
    "    # trainingY = pd.get_dummies(trainingData['Condition'], 'Condition')\n",
    "    trainingY = trainingData['label']\n",
    "\n",
    "    trainingData.drop(['Location','Position','LocalTime','Condition','DewPt','label'], axis=1, inplace=True)\n",
    "\n",
    "    # Split my data into train and test to avoid overfiting\n",
    "    X_train, X_test, Y_train, Y_test = train_test_split(trainingData, trainingY)\n",
    "\n",
    "    #  I will train a Support Vector Machine classifier\n",
    "    #     note: I tried with a Logistic Regression but I only got 68% accuracy\n",
    "\n",
    "    # classifier = SVC()\n",
    "    # classifier = SVC(kernel='rbf', verbose=True)\n",
    "    classifier = SVC(kernel='poly',degree=2)\n",
    "    # classifier = LogisticRegression(C=1e5)\n",
    "    # classifier = KNeighborsClassifier()\n",
    "\n",
    "\n",
    "    classifier.fit(X=X_train, y=Y_train)\n",
    "\n",
    "    # Now I'll check the accuracy of my model\n",
    "    train_ac = classifier.score(X=X_train, y=Y_train)\n",
    "    test_ac = classifier.score(X=X_test, y=Y_test)\n",
    "\n",
    "    print('Training accuracy: {}'.format(train_ac))\n",
    "    print('Testing accuracy: {}'.format(test_ac))\n",
    "    return classifier\n",
    "#     s = {'a':classifier}\n",
    "\n",
    "#     s['a'].predict([[2,3,3,3,3]])"
   ]
  },
  {
   "cell_type": "code",
   "execution_count": 5,
   "metadata": {},
   "outputs": [
    {
     "name": "stdout",
     "output_type": "stream",
     "text": [
      "Training accuracy: 0.8579088471849866\n",
      "Testing accuracy: 0.816\n",
      "Training accuracy: 0.775\n",
      "Testing accuracy: 0.7142857142857143\n",
      "Training accuracy: 0.739938080495356\n",
      "Testing accuracy: 0.7222222222222222\n",
      "Training accuracy: 0.7547169811320755\n",
      "Testing accuracy: 0.717741935483871\n",
      "Training accuracy: 0.8986486486486487\n",
      "Testing accuracy: 0.8686868686868687\n",
      "Training accuracy: 0.6612021857923497\n",
      "Testing accuracy: 0.6885245901639344\n",
      "Training accuracy: 0.6811989100817438\n",
      "Testing accuracy: 0.6585365853658537\n",
      "Training accuracy: 0.9273504273504274\n",
      "Testing accuracy: 0.9230769230769231\n",
      "Training accuracy: 0.8253968253968254\n",
      "Testing accuracy: 0.8571428571428571\n",
      "Training accuracy: 0.9401709401709402\n",
      "Testing accuracy: 0.975\n"
     ]
    }
   ],
   "source": [
    "city_predictor = { }\n",
    "for city in df['Location'].unique():\n",
    "    trainingData = df[ df['Location'] == city ].copy()\n",
    "    classifier = learn(trainingData)\n",
    "    city_predictor.update({city:classifier})\n"
   ]
  },
  {
   "cell_type": "code",
   "execution_count": 7,
   "metadata": {
    "scrolled": true
   },
   "outputs": [
    {
     "data": {
      "text/plain": [
       "array([1])"
      ]
     },
     "execution_count": 7,
     "metadata": {},
     "output_type": "execute_result"
    }
   ],
   "source": [
    "city_predictor['Adelaide'].predict([[0,0,0,0,0]])"
   ]
  },
  {
   "cell_type": "code",
   "execution_count": 8,
   "metadata": {},
   "outputs": [],
   "source": [
    "predicted_value = city_predictor['Adelaide'].predict([[0,0,0,0,0]])[0]"
   ]
  },
  {
   "cell_type": "code",
   "execution_count": 9,
   "metadata": {},
   "outputs": [
    {
     "data": {
      "text/plain": [
       "'Rain'"
      ]
     },
     "execution_count": 9,
     "metadata": {},
     "output_type": "execute_result"
    }
   ],
   "source": [
    "label_map[predicted_value]"
   ]
  },
  {
   "cell_type": "code",
   "execution_count": null,
   "metadata": {},
   "outputs": [],
   "source": []
  }
 ],
 "metadata": {
  "kernelspec": {
   "display_name": "Python 3",
   "language": "python",
   "name": "python3"
  },
  "language_info": {
   "codemirror_mode": {
    "name": "ipython",
    "version": 3
   },
   "file_extension": ".py",
   "mimetype": "text/x-python",
   "name": "python",
   "nbconvert_exporter": "python",
   "pygments_lexer": "ipython3",
   "version": "3.6.1"
  }
 },
 "nbformat": 4,
 "nbformat_minor": 2
}
