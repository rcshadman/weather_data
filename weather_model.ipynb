{
 "cells": [
  {
   "cell_type": "code",
   "execution_count": 1,
   "metadata": {},
   "outputs": [
    {
     "name": "stderr",
     "output_type": "stream",
     "text": [
      "/usr/local/lib/python3.6/site-packages/sklearn/cross_validation.py:41: DeprecationWarning: This module was deprecated in version 0.18 in favor of the model_selection module into which all the refactored classes and functions are moved. Also note that the interface of the new CV iterators are different from that of this module. This module will be removed in 0.20.\n",
      "  \"This module will be removed in 0.20.\", DeprecationWarning)\n"
     ]
    }
   ],
   "source": [
    "import numpy as np\n",
    "import pandas as pd\n",
    "from pprint import pprint as pp\n",
    "import json, os, sys, random, datetime\n",
    "import matplotlib.pyplot as plt\n",
    "import seaborn as sns\n",
    "from sklearn.linear_model import LogisticRegression\n",
    "from sklearn.svm import SVC\n",
    "from sklearn.cross_validation import train_test_split\n",
    "from sklearn.metrics import classification_report\n",
    "from sklearn.neighbors import KNeighborsClassifier\n",
    "random.seed(0)\n",
    "from time import sleep\n",
    "%matplotlib inline"
   ]
  },
  {
   "cell_type": "code",
   "execution_count": 2,
   "metadata": {},
   "outputs": [
    {
     "data": {
      "text/plain": [
       "<matplotlib.axes._subplots.AxesSubplot at 0x10cc81160>"
      ]
     },
     "execution_count": 2,
     "metadata": {},
     "output_type": "execute_result"
    },
    {
     "data": {
      "image/png": "[encoded data removed]",
      "text/plain": [
       "<matplotlib.figure.Figure at 0x112aa5ba8>"
      ]
     },
     "metadata": {},
     "output_type": "display_data"
    }
   ],
   "source": [
    "# load data \n",
    "df = pd.read_csv('training_data/input_data_oct.csv')\n",
    "\n",
    "# check for nulls\n",
    "sns.heatmap(df.isnull(),yticklabels=False,cbar=False,cmap='viridis')"
   ]
  },
  {
   "cell_type": "code",
   "execution_count": 3,
   "metadata": {},
   "outputs": [
    {
     "data": {
      "image/png": "[encoded data removed]",
      "text/plain": [
       "<matplotlib.figure.Figure at 0x11308ebe0>"
      ]
     },
     "metadata": {},
     "output_type": "display_data"
    }
   ],
   "source": [
    "# cleanup and format data\n",
    "\n",
    "# remove last two features with so many nulls\n",
    "df = df.iloc[:,1:-2]\n",
    "\n",
    "# drop rows with nulls\n",
    "df = df.dropna(axis=0,how='any')\n",
    "\n",
    "\n",
    "# sanity check for data\n",
    "sns.heatmap(df.isnull(),yticklabels=False,cbar=False,cmap='viridis')\n",
    "\n",
    "\n",
    "# change the datatype\n",
    "df[['Day','Hour','Humidity']] = df[['Day','Hour','Humidity']].astype(int)\n",
    "df[['Temp','DewPt','Pressure']] = df[['Temp','DewPt','Pressure']].astype(float)\n",
    "\n",
    "\n",
    "# rename column\n",
    "df.rename(columns={'City': 'Location','Day':'Date'}, inplace=True)\n",
    "\n",
    "\n",
    "# insert position columns for cities\n",
    "df.insert(1, 'Position', '')\n",
    "\n",
    "GEOGRAPHICAL_DATA = { \n",
    "'Sydney': [-33.86,151.20,19],\n",
    "'Melbourne': [-37.66,144.84,124],\n",
    "'Brisbane': [-27.47,153.02,28],\n",
    "'Gold_Coast': [-28.01,153.42,3.9],\n",
    "'Adelaide': [-34.92,138.59,44.7],\n",
    "'Darwin': [-12.46,130.84,37],\n",
    "'Wollongong': [-34.42,150.89,19],\n",
    "'Canberra': [-35.28,149.12,576.7],\n",
    "'Newcastle': [-32.92,151.77,12.81],\n",
    "'Hobart': [-42.83,147.50,6]\n",
    "}\n",
    "\n",
    "# populate data in the position coloumn \n",
    "df['Position'] = [GEOGRAPHICAL_DATA[city]  for city in df['Location']]\n",
    "\n"
   ]
  },
  {
   "cell_type": "code",
   "execution_count": 4,
   "metadata": {},
   "outputs": [],
   "source": [
    "# simplify the weathers to rain, cloudy, and clear\n",
    "\n",
    "weather_conditions= { \n",
    "    'Rain' : ['Light Rain',\n",
    "              'Light Rain Showers',\n",
    "              'Light Drizzle',\n",
    "              'Light Thunderstorms and Rain',\n",
    "              'Heavy Rain Showers',\n",
    "              'Unknown Precipitation',\n",
    "              'Thunderstorms and Rain',\n",
    "              'Rain',\n",
    "              'Rain Showers',\n",
    "              'Thunderstorm',\n",
    "              'Heavy Thunderstorms and Rain',\n",
    "              'Heavy Rain',\n",
    "              'Drizzle',\n",
    "              'Heavy Drizzle'],\n",
    "    'Cloudy':['Mostly Cloudy',\n",
    "              'Partly Cloudy',\n",
    "              'Overcast',\n",
    "              'Scattered Clouds'\n",
    "             ],\n",
    "    'Clear':['Clear'],\n",
    "    'Snow':['Snow']\n",
    "}\n",
    "\n",
    "def simplify(cond):\n",
    "    if cond in weather_conditions['Rain']:\n",
    "        cond = 'Rain'\n",
    "    elif cond in weather_conditions['Clear']:\n",
    "        cond = 'Clear'\n",
    "    elif cond in weather_conditions['Snow']:\n",
    "        cond = 'Snow'\n",
    "    elif cond in weather_conditions['Cloudy']:\n",
    "        cond = 'Cloudy'\n",
    "    else:\n",
    "        cond = 'Unknown'\n",
    "    return cond\n",
    "\n",
    "df['Condition'] = df['Condition'].apply(simplify)\n",
    "df = df[df['Condition'] != 'Unknown']"
   ]
  },
  {
   "cell_type": "code",
   "execution_count": 5,
   "metadata": {},
   "outputs": [],
   "source": [
    "# rearrange the columns\n",
    "df = df[['Date','Hour','Location','Position','Condition','Pressure','Temp','Humidity','DewPt']]\n",
    "\n",
    "# sort by location,data and hour\n",
    "df = df.sort_values(['Location','Date','Hour'])\n"
   ]
  },
  {
   "cell_type": "code",
   "execution_count": 6,
   "metadata": {},
   "outputs": [],
   "source": [
    "# generate LocalTime Column from day and hour\n",
    "tmp = pd.DataFrame(\n",
    "    {\n",
    "        'Time':['{:02}:{:02}:{:02}'.format(hr,random.randint(0,60),random.randint(0,60)) for hr in df['Hour'] ],\n",
    "        'Date':['2017-11-{:02}'.format(day) for day in df['Date']]\n",
    "    })\n",
    "\n",
    "df.insert(4,'LocalTime','')\n",
    "df['LocalTime'] = tmp['Date'] + ' ' + tmp['Time']\n"
   ]
  },
  {
   "cell_type": "code",
   "execution_count": 7,
   "metadata": {},
   "outputs": [],
   "source": [
    "# To feed sklearn I have to convert the 'conditions' text data to a numeric value\n",
    "labels = {}\n",
    "\n",
    "for label, condition in enumerate( df['Condition'].unique() ):\n",
    "    labels[condition] = label\n",
    "\n",
    "df['label'] = df['Condition'].apply(lambda c: labels.get(c))\n",
    "\n",
    "# handy map to refer back to the condition\n",
    "label_map = { v:k for k,v in labels.items() }\n"
   ]
  },
  {
   "cell_type": "code",
   "execution_count": 8,
   "metadata": {},
   "outputs": [
    {
     "data": {
      "image/png": "[encoded data removed]",
      "text/plain": [
       "<matplotlib.figure.Figure at 0x10d731940>"
      ]
     },
     "metadata": {},
     "output_type": "display_data"
    }
   ],
   "source": [
    "# variation/range of temp in syndey each hour during the day\n",
    "\n",
    "idx = (df['Location'] == 'Sydney')\n",
    "plt.figure(figsize=[17,6])\n",
    "sns.boxplot(data=df[idx], x='Hour', y='Temp')\n",
    "plt.title('Temperature evolution @ Sydney')\n",
    "plt.show()\n"
   ]
  },
  {
   "cell_type": "code",
   "execution_count": 9,
   "metadata": {},
   "outputs": [
    {
     "data": {
      "image/png": "[encoded data removed]",
      "text/plain": [
       "<matplotlib.figure.Figure at 0x112fee358>"
      ]
     },
     "metadata": {},
     "output_type": "display_data"
    }
   ],
   "source": [
    "# variation/range of temp in syndey during the month\n",
    "idx = (df['Location'] == 'Sydney')\n",
    "plt.figure(figsize=[17,6])\n",
    "sns.boxplot(data=df[idx], x='Date', y='Temp')\n",
    "plt.title('Temperature evolution @ Sydney')\n",
    "plt.show()"
   ]
  },
  {
   "cell_type": "code",
   "execution_count": 10,
   "metadata": {},
   "outputs": [],
   "source": [
    "# Learning algorithm \n",
    "def learn(trainingData, features_to_drop):\n",
    "\n",
    "\n",
    "    # trainingY = pd.get_dummies(trainingData['Condition'], 'Condition')\n",
    "    trainingY = trainingData['label']\n",
    "\n",
    "    trainingData.drop(features_to_drop, axis=1, inplace=True)\n",
    "\n",
    "    # Split my data into train and test to avoid overfiting\n",
    "    X_train, X_test, Y_train, Y_test = train_test_split(trainingData, trainingY)\n",
    "\n",
    "    #  I will train a Support Vector Machine classifier\n",
    "    #     note: I tried with a Logistic Regression but I only got 68% accuracy\n",
    "\n",
    "    classifier = SVC()\n",
    "    # classifier = SVC(kernel='rbf', verbose=True)\n",
    "#     classifier = SVC(kernel='poly',degree=2)\n",
    "    # classifier = LogisticRegression(C=1e5)\n",
    "    # classifier = KNeighborsClassifier()\n",
    "    classifier.fit(X=X_train, y=Y_train)\n",
    "\n",
    "    # Now I'll check the accuracy of my model\n",
    "    train_ac = classifier.score(X=X_train, y=Y_train)\n",
    "    test_ac = classifier.score(X=X_test, y=Y_test)\n",
    "    print('Training accuracy: {}   -  Testing accuracy: {} '.format(train_ac,test_ac))\n",
    "    \n",
    "    return classifier\n"
   ]
  },
  {
   "cell_type": "code",
   "execution_count": 11,
   "metadata": {},
   "outputs": [
    {
     "data": {
      "text/html": [
       "<div>\n",
       "<style>\n",
       "    .dataframe thead tr:only-child th {\n",
       "        text-align: right;\n",
       "    }\n",
       "\n",
       "    .dataframe thead th {\n",
       "        text-align: left;\n",
       "    }\n",
       "\n",
       "    .dataframe tbody tr th {\n",
       "        vertical-align: top;\n",
       "    }\n",
       "</style>\n",
       "<table border=\"1\" class=\"dataframe\">\n",
       "  <thead>\n",
       "    <tr style=\"text-align: right;\">\n",
       "      <th></th>\n",
       "      <th>Date</th>\n",
       "      <th>Hour</th>\n",
       "      <th>Location</th>\n",
       "      <th>Position</th>\n",
       "      <th>LocalTime</th>\n",
       "      <th>Condition</th>\n",
       "      <th>Pressure</th>\n",
       "      <th>Temp</th>\n",
       "      <th>Humidity</th>\n",
       "      <th>DewPt</th>\n",
       "      <th>label</th>\n",
       "    </tr>\n",
       "  </thead>\n",
       "  <tbody>\n",
       "    <tr>\n",
       "      <th>2465</th>\n",
       "      <td>1</td>\n",
       "      <td>0</td>\n",
       "      <td>Adelaide</td>\n",
       "      <td>[-34.92, 138.59, 44.7]</td>\n",
       "      <td>2017-11-21 06:11:43</td>\n",
       "      <td>Cloudy</td>\n",
       "      <td>1026.0</td>\n",
       "      <td>10.0</td>\n",
       "      <td>87</td>\n",
       "      <td>8.0</td>\n",
       "      <td>0</td>\n",
       "    </tr>\n",
       "    <tr>\n",
       "      <th>2466</th>\n",
       "      <td>1</td>\n",
       "      <td>1</td>\n",
       "      <td>Adelaide</td>\n",
       "      <td>[-34.92, 138.59, 44.7]</td>\n",
       "      <td>2017-11-21 07:53:22</td>\n",
       "      <td>Cloudy</td>\n",
       "      <td>1026.0</td>\n",
       "      <td>9.0</td>\n",
       "      <td>82</td>\n",
       "      <td>6.0</td>\n",
       "      <td>0</td>\n",
       "    </tr>\n",
       "    <tr>\n",
       "      <th>2467</th>\n",
       "      <td>1</td>\n",
       "      <td>3</td>\n",
       "      <td>Adelaide</td>\n",
       "      <td>[-34.92, 138.59, 44.7]</td>\n",
       "      <td>2017-11-21 08:27:54</td>\n",
       "      <td>Cloudy</td>\n",
       "      <td>1025.0</td>\n",
       "      <td>8.0</td>\n",
       "      <td>87</td>\n",
       "      <td>6.0</td>\n",
       "      <td>0</td>\n",
       "    </tr>\n",
       "    <tr>\n",
       "      <th>2468</th>\n",
       "      <td>1</td>\n",
       "      <td>4</td>\n",
       "      <td>Adelaide</td>\n",
       "      <td>[-34.92, 138.59, 44.7]</td>\n",
       "      <td>2017-11-21 09:27:26</td>\n",
       "      <td>Cloudy</td>\n",
       "      <td>1025.0</td>\n",
       "      <td>8.0</td>\n",
       "      <td>87</td>\n",
       "      <td>6.0</td>\n",
       "      <td>0</td>\n",
       "    </tr>\n",
       "    <tr>\n",
       "      <th>2469</th>\n",
       "      <td>1</td>\n",
       "      <td>5</td>\n",
       "      <td>Adelaide</td>\n",
       "      <td>[-34.92, 138.59, 44.7]</td>\n",
       "      <td>2017-11-21 10:23:37</td>\n",
       "      <td>Cloudy</td>\n",
       "      <td>1025.0</td>\n",
       "      <td>8.0</td>\n",
       "      <td>81</td>\n",
       "      <td>5.0</td>\n",
       "      <td>0</td>\n",
       "    </tr>\n",
       "  </tbody>\n",
       "</table>\n",
       "</div>"
      ],
      "text/plain": [
       "      Date  Hour  Location                Position            LocalTime  \\\n",
       "2465     1     0  Adelaide  [-34.92, 138.59, 44.7]  2017-11-21 06:11:43   \n",
       "2466     1     1  Adelaide  [-34.92, 138.59, 44.7]  2017-11-21 07:53:22   \n",
       "2467     1     3  Adelaide  [-34.92, 138.59, 44.7]  2017-11-21 08:27:54   \n",
       "2468     1     4  Adelaide  [-34.92, 138.59, 44.7]  2017-11-21 09:27:26   \n",
       "2469     1     5  Adelaide  [-34.92, 138.59, 44.7]  2017-11-21 10:23:37   \n",
       "\n",
       "     Condition  Pressure  Temp  Humidity  DewPt  label  \n",
       "2465    Cloudy    1026.0  10.0        87    8.0      0  \n",
       "2466    Cloudy    1026.0   9.0        82    6.0      0  \n",
       "2467    Cloudy    1025.0   8.0        87    6.0      0  \n",
       "2468    Cloudy    1025.0   8.0        87    6.0      0  \n",
       "2469    Cloudy    1025.0   8.0        81    5.0      0  "
      ]
     },
     "execution_count": 11,
     "metadata": {},
     "output_type": "execute_result"
    }
   ],
   "source": [
    "# data set with all features\n",
    "df.head()"
   ]
  },
  {
   "cell_type": "code",
   "execution_count": 12,
   "metadata": {
    "scrolled": false
   },
   "outputs": [
    {
     "data": {
      "text/html": [
       "<div>\n",
       "<style>\n",
       "    .dataframe thead tr:only-child th {\n",
       "        text-align: right;\n",
       "    }\n",
       "\n",
       "    .dataframe thead th {\n",
       "        text-align: left;\n",
       "    }\n",
       "\n",
       "    .dataframe tbody tr th {\n",
       "        vertical-align: top;\n",
       "    }\n",
       "</style>\n",
       "<table border=\"1\" class=\"dataframe\">\n",
       "  <thead>\n",
       "    <tr style=\"text-align: right;\">\n",
       "      <th></th>\n",
       "      <th>Date</th>\n",
       "      <th>Hour</th>\n",
       "      <th>Pressure</th>\n",
       "      <th>Temp</th>\n",
       "      <th>Humidity</th>\n",
       "    </tr>\n",
       "  </thead>\n",
       "  <tbody>\n",
       "    <tr>\n",
       "      <th>2465</th>\n",
       "      <td>1</td>\n",
       "      <td>0</td>\n",
       "      <td>1026.0</td>\n",
       "      <td>10.0</td>\n",
       "      <td>87</td>\n",
       "    </tr>\n",
       "    <tr>\n",
       "      <th>2466</th>\n",
       "      <td>1</td>\n",
       "      <td>1</td>\n",
       "      <td>1026.0</td>\n",
       "      <td>9.0</td>\n",
       "      <td>82</td>\n",
       "    </tr>\n",
       "    <tr>\n",
       "      <th>2467</th>\n",
       "      <td>1</td>\n",
       "      <td>3</td>\n",
       "      <td>1025.0</td>\n",
       "      <td>8.0</td>\n",
       "      <td>87</td>\n",
       "    </tr>\n",
       "    <tr>\n",
       "      <th>2468</th>\n",
       "      <td>1</td>\n",
       "      <td>4</td>\n",
       "      <td>1025.0</td>\n",
       "      <td>8.0</td>\n",
       "      <td>87</td>\n",
       "    </tr>\n",
       "    <tr>\n",
       "      <th>2469</th>\n",
       "      <td>1</td>\n",
       "      <td>5</td>\n",
       "      <td>1025.0</td>\n",
       "      <td>8.0</td>\n",
       "      <td>81</td>\n",
       "    </tr>\n",
       "  </tbody>\n",
       "</table>\n",
       "</div>"
      ],
      "text/plain": [
       "      Date  Hour  Pressure  Temp  Humidity\n",
       "2465     1     0    1026.0  10.0        87\n",
       "2466     1     1    1026.0   9.0        82\n",
       "2467     1     3    1025.0   8.0        87\n",
       "2468     1     4    1025.0   8.0        87\n",
       "2469     1     5    1025.0   8.0        81"
      ]
     },
     "execution_count": 12,
     "metadata": {},
     "output_type": "execute_result"
    }
   ],
   "source": [
    "# Drop unnecessary features\n",
    "features_to_drop = ['Location','Position','LocalTime','Condition','DewPt','label']\n",
    "dff = df.copy()\n",
    "dff.drop(features_to_drop, axis=1, inplace=True)\n",
    "\n",
    "# dataset with selected features\n",
    "dff.head()"
   ]
  },
  {
   "cell_type": "code",
   "execution_count": 13,
   "metadata": {},
   "outputs": [
    {
     "name": "stdout",
     "output_type": "stream",
     "text": [
      "City: Adelaide \n",
      "Training accuracy: 0.9908424908424909   -  Testing accuracy: 0.7197802197802198 \n",
      "City: Brisbane \n",
      "Training accuracy: 1.0   -  Testing accuracy: 0.6785714285714286 \n",
      "City: Canberra \n",
      "Training accuracy: 0.9930555555555556   -  Testing accuracy: 0.7013888888888888 \n",
      "City: Darwin \n",
      "Training accuracy: 0.936046511627907   -  Testing accuracy: 0.7558139534883721 \n",
      "City: Gold_Coast \n",
      "Training accuracy: 0.9787878787878788   -  Testing accuracy: 0.8288288288288288 \n",
      "City: Hobart \n",
      "Training accuracy: 0.9757009345794393   -  Testing accuracy: 0.7318435754189944 \n",
      "City: Melbourne \n",
      "Training accuracy: 0.9799270072992701   -  Testing accuracy: 0.726775956284153 \n",
      "City: Newcastle \n",
      "Training accuracy: 0.9815303430079155   -  Testing accuracy: 0.7716535433070866 \n",
      "City: Sydney \n",
      "Training accuracy: 0.970856102003643   -  Testing accuracy: 0.7065217391304348 \n",
      "City: Wollongong \n",
      "Training accuracy: 1.0   -  Testing accuracy: 0.7962962962962963 \n"
     ]
    }
   ],
   "source": [
    "# create a predictor for each city and maintain in a dict to use it later for generating data\n",
    "city_predictor = { }\n",
    "city_stats_meta = {}\n",
    "for city in df['Location'].unique():\n",
    "    trainingData = df[ df['Location'] == city ].copy()\n",
    "    \n",
    "    print('City: {} '.format(city))\n",
    "    classifier = learn(trainingData,features_to_drop)\n",
    "    city_predictor.update({city:classifier})\n",
    "    \n",
    "    \n",
    "    statistics = trainingData.describe()\n",
    "    mean = [\n",
    "        statistics['Pressure']['mean'],\n",
    "        statistics['Temp']['mean'],\n",
    "        statistics['Humidity']['mean']]\n",
    "    covariance = statistics[['Pressure','Temp','Humidity']].cov()\n",
    "    city_stats_meta.update({city:[mean,covariance]})\n",
    "    \n",
    "    weather_generator = np.random.multivariate_normal\n",
    "    "
   ]
  },
  {
   "cell_type": "code",
   "execution_count": 14,
   "metadata": {},
   "outputs": [
    {
     "data": {
      "text/plain": [
       "'Cloudy'"
      ]
     },
     "execution_count": 14,
     "metadata": {},
     "output_type": "execute_result"
    }
   ],
   "source": [
    "# sample\n",
    "predicted_value = city_predictor['Adelaide'].predict([[0,0,0,0,0]])[0]\n",
    "label_map[predicted_value]"
   ]
  },
  {
   "cell_type": "code",
   "execution_count": 15,
   "metadata": {},
   "outputs": [
    {
     "name": "stdout",
     "output_type": "stream",
     "text": [
      "Sydney|-33.86,151.2,19|2017-12-09T23:23:25Z|Cloudy|+898.5|-4.1|33\n",
      "Sydney|-33.86,151.2,19|2017-12-09T23:23:26Z|Cloudy|+628.9|-121.6|-107\n",
      "Sydney|-33.86,151.2,19|2017-12-09T23:23:26Z|Cloudy|+1466.5|211.8|268\n",
      "Sydney|-33.86,151.2,19|2017-12-09T23:23:26Z|Cloudy|+469.2|-163.3|-160\n",
      "Sydney|-33.86,151.2,19|2017-12-09T23:23:26Z|Cloudy|+962.4|0.0|58\n",
      "Sydney|-33.86,151.2,19|2017-12-09T23:23:26Z|Cloudy|+872.5|-71.0|-10\n",
      "Sydney|-33.86,151.2,19|2017-12-09T23:23:27Z|Cloudy|+990.8|-381.0|-321\n",
      "Sydney|-33.86,151.2,19|2017-12-09T23:23:27Z|Cloudy|+959.8|616.7|655\n",
      "Sydney|-33.86,151.2,19|2017-12-09T23:23:27Z|Cloudy|+1137.2|-155.2|-90\n"
     ]
    }
   ],
   "source": [
    "\n",
    "weather_generator = np.random.multivariate_normal\n",
    "city_list = [each_city for each_city in GEOGRAPHICAL_DATA.keys()]\n",
    "\n",
    "for each in range(1,10):\n",
    "    city = np.random.choice(city_list)\n",
    "    city = 'Sydney'\n",
    "    generated_values = weather_generator(*city_stats_meta[city]).tolist()\n",
    "    # print(generated_values)\n",
    "    # adding day and time to generated weather data, to predict the condition\n",
    "    \n",
    "    day,hour = '{:%d %H}'.format(datetime.datetime.now()).split(' ')\n",
    "    day,hour = int(day),int(hour)\n",
    "#     fakedatetime = fake.date_time_between(start_date=\"-30y\", end_date=\"now\", tzinfo=None)\n",
    "#     fakedatetime = fake.future_datetime(end_date=\"+30d\", tzinfo=None)\n",
    "#     day,hour = fakedatetime.day,fakedatetime.hour  \n",
    "    generated_values = [day,hour]+generated_values\n",
    "\n",
    "    predicted_value = city_predictor[city].predict([generated_values])[0]\n",
    "\n",
    "    Condition = label_map[predicted_value]\n",
    "    Temp = generated_values[2]\n",
    "    Pressure = generated_values[3]\n",
    "    Humidity = generated_values[4]\n",
    "#     LocalTime = fakedatetime.isoformat()\n",
    "#     LocalTime ='{}Z'.format(datetime.datetime.now().isoformat()[:-4])\n",
    "    Localtime= '{:%Y-%m-%dT%H:%M:%SZ}'.format(datetime.datetime.now())\n",
    "    Position = GEOGRAPHICAL_DATA[city]\n",
    "\n",
    "    output_dict = {\n",
    "    'city':city,\n",
    "    'lat':Position[0],\n",
    "    'long':Position[1],\n",
    "    'elevation':Position[2],\n",
    "    'localtime':Localtime,\n",
    "    'condition':Condition,\n",
    "    'temp':Temp,\n",
    "    'pressure':Pressure,\n",
    "    'humidity':Humidity\n",
    "    }\n",
    "    output_string = '{city}|{lat},{long},{elevation}|{localtime}|{condition}|+{temp:.01f}|{pressure:.01f}|{humidity:.0f}'.format(**output_dict)\n",
    "    sleep(0.2)\n",
    "    print(output_string)\n"
   ]
  },
  {
   "cell_type": "code",
   "execution_count": 17,
   "metadata": {},
   "outputs": [
    {
     "data": {
      "text/plain": [
       "10"
      ]
     },
     "execution_count": 17,
     "metadata": {},
     "output_type": "execute_result"
    }
   ],
   "source": [
    "datetime.datetime.now().day"
   ]
  },
  {
   "cell_type": "code",
   "execution_count": null,
   "metadata": {},
   "outputs": [],
   "source": []
  }
 ],
 "metadata": {
  "kernelspec": {
   "display_name": "Python 3",
   "language": "python",
   "name": "python3"
  },
  "language_info": {
   "codemirror_mode": {
    "name": "ipython",
    "version": 3
   },
   "file_extension": ".py",
   "mimetype": "text/x-python",
   "name": "python",
   "nbconvert_exporter": "python",
   "pygments_lexer": "ipython3",
   "version": "3.6.1"
  }
 },
 "nbformat": 4,
 "nbformat_minor": 2
}
